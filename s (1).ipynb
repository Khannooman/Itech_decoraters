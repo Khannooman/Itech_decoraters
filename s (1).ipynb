{
 "cells": [
  {
   "cell_type": "markdown",
   "id": "502cbaff",
   "metadata": {},
   "source": [
    "Find the Factorial of a Number"
   ]
  },
  {
   "cell_type": "code",
   "execution_count": 1,
   "id": "ab9f14ab",
   "metadata": {},
   "outputs": [
    {
     "data": {
      "text/plain": [
       "120"
      ]
     },
     "execution_count": 1,
     "metadata": {},
     "output_type": "execute_result"
    }
   ],
   "source": [
    "5*4*3*2*1"
   ]
  },
  {
   "cell_type": "code",
   "execution_count": 15,
   "id": "d4765174",
   "metadata": {},
   "outputs": [
    {
     "data": {
      "text/plain": [
       "1"
      ]
     },
     "execution_count": 15,
     "metadata": {},
     "output_type": "execute_result"
    }
   ],
   "source": [
    "# factorial\n",
    "def factorial(n):\n",
    "    fact = 1\n",
    "    for i in range(1,n+1,1):\n",
    "        fact = fact*i  \n",
    "    return fact \n",
    "factorial(0)"
   ]
  },
  {
   "cell_type": "code",
   "execution_count": 16,
   "id": "1f14e454",
   "metadata": {},
   "outputs": [
    {
     "data": {
      "text/plain": [
       "24"
      ]
     },
     "execution_count": 16,
     "metadata": {},
     "output_type": "execute_result"
    }
   ],
   "source": [
    "import math\n",
    "math.factorial(4)"
   ]
  },
  {
   "cell_type": "code",
   "execution_count": 31,
   "id": "86ce6421",
   "metadata": {},
   "outputs": [],
   "source": [
    "# list \n",
    "def find_even_odd(lis):\n",
    "    even = []\n",
    "    odd = []\n",
    "    for i in lis:\n",
    "        if i%2==0:\n",
    "            even.append(i)\n",
    "        else:\n",
    "            odd.append(i)\n",
    "    return even, odd\n",
    "            \n",
    " "
   ]
  },
  {
   "cell_type": "code",
   "execution_count": 38,
   "id": "591a2c59",
   "metadata": {},
   "outputs": [],
   "source": [
    "def find_even_odd(lis):\n",
    "    even = lis[0:len(lis)+1:2]\n",
    "    odd = lis[1:len(lis)+1:2]\n",
    "    return even, odd"
   ]
  },
  {
   "cell_type": "code",
   "execution_count": 62,
   "id": "8408049e",
   "metadata": {},
   "outputs": [
    {
     "name": "stdout",
     "output_type": "stream",
     "text": [
      "[1, 2, 3, 4, 5, 6, 7, 8, 9, 10, 11, 12, 13, 14, 15, 16, 17, 18, 19, 20]\n"
     ]
    },
    {
     "data": {
      "text/plain": [
       "([1, 3, 5, 7, 9, 11, 13, 15, 17, 19], [2, 4, 6, 8, 10, 12, 14, 16, 18, 20])"
      ]
     },
     "execution_count": 62,
     "metadata": {},
     "output_type": "execute_result"
    }
   ],
   "source": [
    "lis = list(range(1,21,1))\n",
    "print(lis)\n",
    "find_even_odd(lis)"
   ]
  },
  {
   "cell_type": "code",
   "execution_count": 60,
   "id": "530d6692",
   "metadata": {},
   "outputs": [],
   "source": [
    "def reverse(lis):\n",
    "    l = []\n",
    "    for i in range(len(lis)-1,-1,-1):\n",
    "        print(i)\n",
    "        l.append(lis[i])\n",
    "    return l\n",
    "reverse(lis)"
   ]
  },
  {
   "cell_type": "code",
   "execution_count": 90,
   "id": "c310b7bb",
   "metadata": {},
   "outputs": [
    {
     "name": "stdout",
     "output_type": "stream",
     "text": [
      "0.0\n"
     ]
    }
   ],
   "source": [
    "# hcf\n",
    "import time\n",
    "def gcd(a,b):\n",
    "    while b:\n",
    "        a, b = b, a%b\n",
    "    return a\n",
    "before = time.time()\n",
    "gcd(120,700)\n",
    "after = time.time()\n",
    "print(after-before)"
   ]
  },
  {
   "cell_type": "code",
   "execution_count": 82,
   "id": "075a6b8b",
   "metadata": {},
   "outputs": [
    {
     "data": {
      "text/plain": [
       "1696231514.6572356"
      ]
     },
     "execution_count": 82,
     "metadata": {},
     "output_type": "execute_result"
    }
   ],
   "source": [
    "time.time()"
   ]
  },
  {
   "cell_type": "code",
   "execution_count": 69,
   "id": "7a679630",
   "metadata": {},
   "outputs": [],
   "source": [
    "def hcf(a,b):\n",
    "    lis = []\n",
    "    if a>b:\n",
    "        maximum = a\n",
    "    else:\n",
    "        maximum = b\n",
    "    for i in range(1,maximum+1,1):\n",
    "        if a%i==0 and b%i==0:\n",
    "            lis.append(i)\n",
    "    return max(lis)"
   ]
  },
  {
   "cell_type": "code",
   "execution_count": 89,
   "id": "daf3b035",
   "metadata": {},
   "outputs": [
    {
     "name": "stdout",
     "output_type": "stream",
     "text": [
      "0.0009999275207519531\n"
     ]
    }
   ],
   "source": [
    "before = time.time()\n",
    "hcf(120,700)\n",
    "after = time.time()\n",
    "print(after-before)"
   ]
  },
  {
   "cell_type": "code",
   "execution_count": 98,
   "id": "8ae2e0c0",
   "metadata": {},
   "outputs": [],
   "source": [
    "# lcm\n",
    "# lcm*hcf = product of the number\n",
    "def gcd(a,b):\n",
    "    while b:\n",
    "        a, b = b, a%b\n",
    "    return a\n",
    "def lcm(a,b):\n",
    "    hc = gcd(a,b)\n",
    "    lc = a*b/hc\n",
    "    return lc"
   ]
  },
  {
   "cell_type": "code",
   "execution_count": 99,
   "id": "8af88c8d",
   "metadata": {},
   "outputs": [
    {
     "data": {
      "text/plain": [
       "650.0"
      ]
     },
     "execution_count": 99,
     "metadata": {},
     "output_type": "execute_result"
    }
   ],
   "source": [
    "lcm(25,26)"
   ]
  },
  {
   "cell_type": "code",
   "execution_count": 110,
   "id": "877933cf",
   "metadata": {},
   "outputs": [
    {
     "name": "stdout",
     "output_type": "stream",
     "text": [
      "0\n",
      "100\n",
      "0 is not a prime neither composite\n",
      "1 is not a prime neither composite\n"
     ]
    },
    {
     "data": {
      "text/plain": [
       "[2,\n",
       " 3,\n",
       " 5,\n",
       " 7,\n",
       " 11,\n",
       " 13,\n",
       " 17,\n",
       " 19,\n",
       " 23,\n",
       " 29,\n",
       " 31,\n",
       " 37,\n",
       " 41,\n",
       " 43,\n",
       " 47,\n",
       " 53,\n",
       " 59,\n",
       " 61,\n",
       " 67,\n",
       " 71,\n",
       " 73,\n",
       " 79,\n",
       " 83,\n",
       " 89,\n",
       " 97]"
      ]
     },
     "execution_count": 110,
     "metadata": {},
     "output_type": "execute_result"
    }
   ],
   "source": [
    "#  prime Number\n",
    "a = int(input())\n",
    "b = int(input())\n",
    "lis = []\n",
    "for i in range(a,b+1):\n",
    "    if i>1:\n",
    "        for j in range(2,i):\n",
    "            if i%j==0:\n",
    "                break \n",
    "        else:\n",
    "            lis.append(i)\n",
    "    else:\n",
    "        print(f\"{i} is not a prime neither composite\")\n",
    "lis     "
   ]
  },
  {
   "cell_type": "markdown",
   "id": "3f4e87df",
   "metadata": {},
   "source": [
    "1235659841452 palindrom"
   ]
  },
  {
   "cell_type": "code",
   "execution_count": 19,
   "id": "63f9f01d",
   "metadata": {},
   "outputs": [
    {
     "name": "stdout",
     "output_type": "stream",
     "text": [
      "121\n",
      "121: palindrom\n"
     ]
    }
   ],
   "source": [
    "number = int(input())\n",
    "temp = number\n",
    "num = 0\n",
    "while temp>0:\n",
    "    reminder = temp%10\n",
    "    num = num*10+reminder\n",
    "    temp = temp//10 \n",
    "if num==number:\n",
    "    print(f\"{number}: palindrom\")\n",
    "else:\n",
    "    print(f\"{number}: Not palindrom\")"
   ]
  },
  {
   "cell_type": "code",
   "execution_count": 11,
   "id": "e90b2df7",
   "metadata": {},
   "outputs": [
    {
     "data": {
      "text/plain": [
       "1234"
      ]
     },
     "execution_count": 11,
     "metadata": {},
     "output_type": "execute_result"
    }
   ],
   "source": [
    "1*1000+2*100+3*10+4*1"
   ]
  },
  {
   "cell_type": "code",
   "execution_count": 7,
   "id": "15a51c45",
   "metadata": {},
   "outputs": [
    {
     "data": {
      "text/plain": [
       "9"
      ]
     },
     "execution_count": 7,
     "metadata": {},
     "output_type": "execute_result"
    }
   ],
   "source": [
    "123456"
   ]
  },
  {
   "cell_type": "code",
   "execution_count": null,
   "id": "5dfd6e8f",
   "metadata": {},
   "outputs": [],
   "source": [
    "4 43  4321"
   ]
  },
  {
   "cell_type": "code",
   "execution_count": 14,
   "id": "8e95d85a",
   "metadata": {},
   "outputs": [
    {
     "data": {
      "text/plain": [
       "123"
      ]
     },
     "execution_count": 14,
     "metadata": {},
     "output_type": "execute_result"
    }
   ],
   "source": [
    "1234//10"
   ]
  },
  {
   "cell_type": "code",
   "execution_count": 15,
   "id": "2884fd1d",
   "metadata": {},
   "outputs": [
    {
     "data": {
      "text/plain": [
       "0"
      ]
     },
     "execution_count": 15,
     "metadata": {},
     "output_type": "execute_result"
    }
   ],
   "source": [
    "1//10"
   ]
  },
  {
   "cell_type": "code",
   "execution_count": 23,
   "id": "bb11f29b",
   "metadata": {},
   "outputs": [
    {
     "name": "stdout",
     "output_type": "stream",
     "text": [
      "Not equal\n"
     ]
    }
   ],
   "source": [
    "l = [1,1,1,1,1,1,1,1,1,1,1]\n",
    "lst_value = l[0] .#1\n",
    "for i in l:\n",
    "    if i==lst_value:\n",
    "        continue\n",
    "    else:\n",
    "        print(\"Not equal\")\n",
    "        break \n",
    "else:\n",
    "    print(\"equal\")"
   ]
  },
  {
   "cell_type": "markdown",
   "id": "496e6fe2",
   "metadata": {},
   "source": [
    "123456 replace 5 with 9"
   ]
  },
  {
   "cell_type": "code",
   "execution_count": 27,
   "id": "7b140c14",
   "metadata": {},
   "outputs": [
    {
     "data": {
      "text/plain": [
       "123496"
      ]
     },
     "execution_count": 27,
     "metadata": {},
     "output_type": "execute_result"
    }
   ],
   "source": [
    "replace_value = 5\n",
    "replace_with = 9\n",
    "number = 123456\n",
    "temp = number\n",
    "num = 0\n",
    "multipleir = 1\n",
    "\n",
    "while temp>0:\n",
    "    reminder = temp%10\n",
    "    if reminder == 5:\n",
    "        reminder = 9\n",
    "    num = num+multipleir*reminder\n",
    "    multipleir= multipleir*10\n",
    "    temp = temp//10\n",
    "    \n",
    "print(num)\n",
    "        \n"
   ]
  },
  {
   "cell_type": "markdown",
   "id": "5873da63",
   "metadata": {},
   "source": [
    "NameSpace"
   ]
  },
  {
   "cell_type": "code",
   "execution_count": 35,
   "id": "1960f414",
   "metadata": {},
   "outputs": [
    {
     "name": "stdout",
     "output_type": "stream",
     "text": [
      "5\n",
      "2\n"
     ]
    }
   ],
   "source": [
    "b = 5\n",
    "\n",
    "def func():\n",
    "    a = 2\n",
    "    print(a)\n",
    "print(b)    \n",
    "func()"
   ]
  },
  {
   "cell_type": "code",
   "execution_count": 36,
   "id": "14f96c73",
   "metadata": {},
   "outputs": [
    {
     "name": "stdout",
     "output_type": "stream",
     "text": [
      "5\n",
      "7\n"
     ]
    }
   ],
   "source": [
    "b = 5\n",
    "\n",
    "def func():\n",
    "    a = 2\n",
    "    print(a+b)\n",
    "print(b)    \n",
    "func()"
   ]
  },
  {
   "cell_type": "code",
   "execution_count": 38,
   "id": "5542e117",
   "metadata": {},
   "outputs": [
    {
     "name": "stdout",
     "output_type": "stream",
     "text": [
      "5\n",
      "10\n"
     ]
    }
   ],
   "source": [
    "b = 5\n",
    "\n",
    "def func():\n",
    "    global b\n",
    "    b+=5\n",
    "    print(b)\n",
    "    \n",
    "print(b)    \n",
    "func()"
   ]
  },
  {
   "cell_type": "code",
   "execution_count": 32,
   "id": "7456b3d8",
   "metadata": {},
   "outputs": [
    {
     "name": "stdout",
     "output_type": "stream",
     "text": [
      "5\n"
     ]
    }
   ],
   "source": [
    "# global namespace\n",
    "{\"b\":5, \"func\":func()}"
   ]
  },
  {
   "cell_type": "code",
   "execution_count": 44,
   "id": "afa364cb",
   "metadata": {},
   "outputs": [
    {
     "name": "stdout",
     "output_type": "stream",
     "text": [
      "10\n",
      "10\n"
     ]
    }
   ],
   "source": [
    "def func():\n",
    "    global c\n",
    "    c = 5\n",
    "    c+=5\n",
    "    print(c) \n",
    "func()\n",
    "print(c)"
   ]
  },
  {
   "cell_type": "markdown",
   "id": "6f3683f3",
   "metadata": {},
   "source": [
    "### LEGB Rule"
   ]
  },
  {
   "cell_type": "code",
   "execution_count": null,
   "id": "83b752e7",
   "metadata": {},
   "outputs": [],
   "source": [
    "b = 5 \n",
    "\n",
    "def func():\n",
    "    a = 2\n",
    "    print(a)\n",
    "    \n",
    "print(b)    \n",
    "func()"
   ]
  },
  {
   "cell_type": "code",
   "execution_count": 47,
   "id": "99982439",
   "metadata": {},
   "outputs": [
    {
     "name": "stdout",
     "output_type": "stream",
     "text": [
      "5\n"
     ]
    }
   ],
   "source": [
    "print(len(\"fhggh\"))"
   ]
  },
  {
   "cell_type": "code",
   "execution_count": 48,
   "id": "0ce1d18a",
   "metadata": {},
   "outputs": [
    {
     "name": "stdout",
     "output_type": "stream",
     "text": [
      "['ArithmeticError', 'AssertionError', 'AttributeError', 'BaseException', 'BaseExceptionGroup', 'BlockingIOError', 'BrokenPipeError', 'BufferError', 'BytesWarning', 'ChildProcessError', 'ConnectionAbortedError', 'ConnectionError', 'ConnectionRefusedError', 'ConnectionResetError', 'DeprecationWarning', 'EOFError', 'Ellipsis', 'EncodingWarning', 'EnvironmentError', 'Exception', 'ExceptionGroup', 'False', 'FileExistsError', 'FileNotFoundError', 'FloatingPointError', 'FutureWarning', 'GeneratorExit', 'IOError', 'ImportError', 'ImportWarning', 'IndentationError', 'IndexError', 'InterruptedError', 'IsADirectoryError', 'KeyError', 'KeyboardInterrupt', 'LookupError', 'MemoryError', 'ModuleNotFoundError', 'NameError', 'None', 'NotADirectoryError', 'NotImplemented', 'NotImplementedError', 'OSError', 'OverflowError', 'PendingDeprecationWarning', 'PermissionError', 'ProcessLookupError', 'RecursionError', 'ReferenceError', 'ResourceWarning', 'RuntimeError', 'RuntimeWarning', 'StopAsyncIteration', 'StopIteration', 'SyntaxError', 'SyntaxWarning', 'SystemError', 'SystemExit', 'TabError', 'TimeoutError', 'True', 'TypeError', 'UnboundLocalError', 'UnicodeDecodeError', 'UnicodeEncodeError', 'UnicodeError', 'UnicodeTranslateError', 'UnicodeWarning', 'UserWarning', 'ValueError', 'Warning', 'WindowsError', 'ZeroDivisionError', '__IPYTHON__', '__build_class__', '__debug__', '__doc__', '__import__', '__loader__', '__name__', '__package__', '__spec__', 'abs', 'aiter', 'all', 'anext', 'any', 'ascii', 'bin', 'bool', 'breakpoint', 'bytearray', 'bytes', 'callable', 'chr', 'classmethod', 'compile', 'complex', 'copyright', 'credits', 'delattr', 'dict', 'dir', 'display', 'divmod', 'enumerate', 'eval', 'exec', 'execfile', 'filter', 'float', 'format', 'frozenset', 'get_ipython', 'getattr', 'globals', 'hasattr', 'hash', 'help', 'hex', 'id', 'input', 'int', 'isinstance', 'issubclass', 'iter', 'len', 'license', 'list', 'locals', 'map', 'max', 'memoryview', 'min', 'next', 'object', 'oct', 'open', 'ord', 'pow', 'print', 'property', 'range', 'repr', 'reversed', 'round', 'runfile', 'set', 'setattr', 'slice', 'sorted', 'staticmethod', 'str', 'sum', 'super', 'tuple', 'type', 'vars', 'zip']\n"
     ]
    }
   ],
   "source": [
    "import builtins\n",
    "print(dir(builtins))"
   ]
  },
  {
   "cell_type": "code",
   "execution_count": 49,
   "id": "d9258063",
   "metadata": {},
   "outputs": [],
   "source": [
    "def max():\n",
    "    print(\"hello\")"
   ]
  },
  {
   "cell_type": "code",
   "execution_count": 50,
   "id": "525ac140",
   "metadata": {},
   "outputs": [
    {
     "ename": "TypeError",
     "evalue": "max() takes 0 positional arguments but 1 was given",
     "output_type": "error",
     "traceback": [
      "\u001b[1;31m---------------------------------------------------------------------------\u001b[0m",
      "\u001b[1;31mTypeError\u001b[0m                                 Traceback (most recent call last)",
      "Cell \u001b[1;32mIn[50], line 2\u001b[0m\n\u001b[0;32m      1\u001b[0m l \u001b[38;5;241m=\u001b[39m [\u001b[38;5;241m5\u001b[39m,\u001b[38;5;241m5\u001b[39m,\u001b[38;5;241m6\u001b[39m,\u001b[38;5;241m2\u001b[39m,\u001b[38;5;241m1\u001b[39m,\u001b[38;5;241m5\u001b[39m,\u001b[38;5;241m6\u001b[39m,\u001b[38;5;241m3\u001b[39m]\n\u001b[1;32m----> 2\u001b[0m \u001b[38;5;28mmax\u001b[39m(l)\n",
      "\u001b[1;31mTypeError\u001b[0m: max() takes 0 positional arguments but 1 was given"
     ]
    }
   ],
   "source": [
    "l = [5,5,6,2,1,5,6,3]\n",
    "max(l)"
   ]
  },
  {
   "cell_type": "code",
   "execution_count": 51,
   "id": "dce6a98f",
   "metadata": {},
   "outputs": [
    {
     "data": {
      "text/plain": [
       "33"
      ]
     },
     "execution_count": 51,
     "metadata": {},
     "output_type": "execute_result"
    }
   ],
   "source": [
    "sum(l)"
   ]
  },
  {
   "cell_type": "code",
   "execution_count": 56,
   "id": "0e1ae077",
   "metadata": {},
   "outputs": [
    {
     "name": "stdout",
     "output_type": "stream",
     "text": [
      "5\n",
      "5\n"
     ]
    }
   ],
   "source": [
    "y = 5\n",
    "def outer():\n",
    "    print(y)\n",
    "    \n",
    "    def inner():\n",
    "        print(y)\n",
    "    inner()\n",
    "    \n",
    "outer()"
   ]
  },
  {
   "cell_type": "markdown",
   "id": "1fc9626c",
   "metadata": {},
   "source": [
    "### Decoraters"
   ]
  },
  {
   "cell_type": "code",
   "execution_count": 57,
   "id": "b4b0ca8c",
   "metadata": {},
   "outputs": [
    {
     "name": "stdout",
     "output_type": "stream",
     "text": [
      "hello\n"
     ]
    }
   ],
   "source": [
    "print(\"hello\")"
   ]
  },
  {
   "cell_type": "code",
   "execution_count": 71,
   "id": "e25bcbda",
   "metadata": {},
   "outputs": [
    {
     "name": "stdout",
     "output_type": "stream",
     "text": [
      "************************\n",
      "hello\n",
      "************************\n"
     ]
    }
   ],
   "source": [
    "def mydecoraters(func):\n",
    "    \n",
    "    def wrapper():\n",
    "        print(\"************************\")\n",
    "        func()\n",
    "        print(\"************************\")\n",
    "        \n",
    "    return wrapper\n",
    "\n",
    "\n",
    "def hello():\n",
    "    print(\"hello\")\n",
    "    \n",
    "    \n",
    "a = mydecoraters(hello)\n",
    "\n",
    "a()\n",
    "        \n",
    "    "
   ]
  },
  {
   "cell_type": "code",
   "execution_count": 69,
   "id": "876cd6fb",
   "metadata": {},
   "outputs": [],
   "source": [
    "def mydecoraters(func):\n",
    "    \n",
    "    def wrapper():\n",
    "        print(\"************************\")\n",
    "        func()\n",
    "        print(\"************************\")\n",
    "        \n",
    "    return wrapper\n",
    "\n",
    "\n",
    "@timer\n",
    "def hello():\n",
    "    print(\"hello\")\n",
    "    \n",
    "    "
   ]
  },
  {
   "cell_type": "code",
   "execution_count": 70,
   "id": "7c77be56",
   "metadata": {},
   "outputs": [
    {
     "name": "stdout",
     "output_type": "stream",
     "text": [
      "************************\n",
      "hello\n",
      "************************\n"
     ]
    }
   ],
   "source": [
    "hello()"
   ]
  },
  {
   "cell_type": "code",
   "execution_count": 66,
   "id": "43bf3f61",
   "metadata": {},
   "outputs": [],
   "source": [
    "def add(a,b):\n",
    "    return a+b"
   ]
  },
  {
   "cell_type": "code",
   "execution_count": 72,
   "id": "a82d6c0b",
   "metadata": {},
   "outputs": [
    {
     "data": {
      "text/plain": [
       "11"
      ]
     },
     "execution_count": 72,
     "metadata": {},
     "output_type": "execute_result"
    }
   ],
   "source": [
    "add(5,6)"
   ]
  },
  {
   "cell_type": "markdown",
   "id": "85dfa99e",
   "metadata": {},
   "source": [
    "Hangman Project"
   ]
  },
  {
   "cell_type": "code",
   "execution_count": 1,
   "id": "76c159dd",
   "metadata": {},
   "outputs": [],
   "source": [
    "stages = ['''\n",
    "  +---+\n",
    "  |   |\n",
    "  O   |\n",
    " /|\\  |\n",
    " / \\  |\n",
    "      |\n",
    "=========\n",
    "''', '''\n",
    "  +---+\n",
    "  |   |\n",
    "  O   |\n",
    " /|\\  |\n",
    " /    |\n",
    "      |\n",
    "=========\n",
    "''', '''\n",
    "  +---+\n",
    "  |   |\n",
    "  O   |\n",
    " /|\\  |\n",
    "      |\n",
    "      |\n",
    "=========\n",
    "''', '''\n",
    "  +---+\n",
    "  |   |\n",
    "  O   |\n",
    " /|   |\n",
    "      |\n",
    "      |\n",
    "=========''', '''\n",
    "  +---+\n",
    "  |   |\n",
    "  O   |\n",
    "  |   |\n",
    "      |\n",
    "      |\n",
    "=========\n",
    "''', '''\n",
    "  +---+\n",
    "  |   |\n",
    "  O   |\n",
    "      |\n",
    "      |\n",
    "      |\n",
    "=========\n",
    "''', '''\n",
    "  +---+\n",
    "  |   |\n",
    "      |\n",
    "      |\n",
    "      |\n",
    "      |\n",
    "=========\n",
    "''']\n",
    "\n",
    "logo = ''' \n",
    " _                                             \n",
    "| |                                            \n",
    "| |__   __ _ _ __   __ _ _ __ ___   __ _ _ __  \n",
    "| '_ \\ / _` | '_ \\ / _` | '_ ` _ \\ / _` | '_ \\ \n",
    "| | | | (_| | | | | (_| | | | | | | (_| | | | |\n",
    "|_| |_|\\__,_|_| |_|\\__, |_| |_| |_|\\__,_|_| |_|\n",
    "                    __/ |                      \n",
    "                   |___/    '''"
   ]
  },
  {
   "cell_type": "code",
   "execution_count": 2,
   "id": "c37f1faa",
   "metadata": {},
   "outputs": [],
   "source": [
    "word_list = [\"apple\", \"banana\", \"cherry\", \"date\", \"elderberry\",\n",
    "    \"fig\", \"grape\", \"honeydew\", \"kiwi\", \"lemon\",\n",
    "    \"carrot\", \"broccoli\", \"spinach\", \"cucumber\", \"tomato\",\n",
    "    \"zucchini\", \"pepper\", \"celery\", \"onion\", \"potato\",\n",
    "    \"lion\", \"tiger\", \"elephant\", \"giraffe\", \"zebra\",\n",
    "    \"kangaroo\", \"koala\", \"panda\", \"penguin\", \"dolphin\",\n",
    "    \"orange\", \"strawberry\", \"blueberry\", \"watermelon\", \"pineapple\",\n",
    "    \"lettuce\", \"asparagus\", \"cauliflower\", \"eggplant\", \"garlic\",\n",
    "    \"cheetah\", \"rhinoceros\", \"hippopotamus\", \"elephant seal\", \"seahorse\",\n",
    "    \"grapefruit\", \"pear\", \"peach\", \"apricot\", \"plum\",\n",
    "    \"cabbage\", \"radish\", \"sweet potato\", \"squash\", \"artichoke\",\n",
    "    \"crocodile\", \"gazelle\", \"polar bear\", \"otter\", \"seagull\",\n",
    "    \"raspberry\", \"blackberry\", \"cranberry\", \"boysenberry\", \"strawberry\",\n",
    "    \"cantaloupe\", \"pomegranate\", \"kiwifruit\", \"papaya\", \"mango\",\n",
    "    \"clementine\", \"eggplant\", \"asparagus\", \"pumpkin\", \"lettuce\",\n",
    "    \"armadillo\", \"chimpanzee\", \"flamingo\", \"hedgehog\", \"jaguar\",\n",
    "    \"nectarine\", \"persimmon\", \"passion fruit\", \"guava\", \"lychee\",\n",
    "    \"tangerine\", \"rutabaga\", \"turnip\", \"okra\", \"cassava\",\n",
    "    \"lemur\", \"meerkat\", \"opossum\", \"platypus\", \"sloth\",\n",
    "    \"pangolin\", \"chameleon\", \"iguana\", \"narwhal\", \"walrus\",\n",
    "    \"beet\", \"cabbage\", \"endive\", \"kale\", \"parsnip\"\n",
    "] "
   ]
  },
  {
   "cell_type": "code",
   "execution_count": null,
   "id": "fcb31b76",
   "metadata": {},
   "outputs": [],
   "source": []
  },
  {
   "cell_type": "code",
   "execution_count": 32,
   "id": "26500182",
   "metadata": {},
   "outputs": [
    {
     "name": "stdout",
     "output_type": "stream",
     "text": [
      "Guess a lettera\n",
      "a :  not in the word please chose something else\n",
      "_ _ _ _ _ _ _ _ _ _\n",
      "\n",
      "  +---+\n",
      "  |   |\n",
      "  O   |\n",
      "      |\n",
      "      |\n",
      "      |\n",
      "=========\n",
      "\n",
      "Guess a lettere\n",
      "_ _ _ _ _ _ e _ _ _\n",
      "\n",
      "  +---+\n",
      "  |   |\n",
      "  O   |\n",
      "      |\n",
      "      |\n",
      "      |\n",
      "=========\n",
      "\n",
      "Guess a letteri\n",
      "_ _ i _ _ _ e _ _ _\n",
      "\n",
      "  +---+\n",
      "  |   |\n",
      "  O   |\n",
      "      |\n",
      "      |\n",
      "      |\n",
      "=========\n",
      "\n",
      "Guess a letterk\n",
      "k :  not in the word please chose something else\n",
      "_ _ i _ _ _ e _ _ _\n",
      "\n",
      "  +---+\n",
      "  |   |\n",
      "  O   |\n",
      "  |   |\n",
      "      |\n",
      "      |\n",
      "=========\n",
      "\n",
      "Guess a letterh\n",
      "_ h i _ _ _ e _ _ _\n",
      "\n",
      "  +---+\n",
      "  |   |\n",
      "  O   |\n",
      "  |   |\n",
      "      |\n",
      "      |\n",
      "=========\n",
      "\n",
      "Guess a letterg\n",
      "g :  not in the word please chose something else\n",
      "_ h i _ _ _ e _ _ _\n",
      "\n",
      "  +---+\n",
      "  |   |\n",
      "  O   |\n",
      " /|   |\n",
      "      |\n",
      "      |\n",
      "=========\n",
      "Guess a lettern\n",
      "_ h i n _ _ e _ _ _\n",
      "\n",
      "  +---+\n",
      "  |   |\n",
      "  O   |\n",
      " /|   |\n",
      "      |\n",
      "      |\n",
      "=========\n",
      "Guess a letterr\n",
      "r h i n _ _ e r _ _\n",
      "\n",
      "  +---+\n",
      "  |   |\n",
      "  O   |\n",
      " /|   |\n",
      "      |\n",
      "      |\n",
      "=========\n",
      "Guess a letters\n",
      "r h i n _ _ e r _ s\n",
      "\n",
      "  +---+\n",
      "  |   |\n",
      "  O   |\n",
      " /|   |\n",
      "      |\n",
      "      |\n",
      "=========\n",
      "Guess a lettero\n",
      "r h i n o _ e r o s\n",
      "\n",
      "  +---+\n",
      "  |   |\n",
      "  O   |\n",
      " /|   |\n",
      "      |\n",
      "      |\n",
      "=========\n",
      "Guess a letterc\n",
      "r h i n o c e r o s\n",
      "Conratulation You win!\n",
      "\n",
      "  +---+\n",
      "  |   |\n",
      "  O   |\n",
      " /|   |\n",
      "      |\n",
      "      |\n",
      "=========\n"
     ]
    }
   ],
   "source": [
    "import random\n",
    "chosen_word = random.choice(word_list)\n",
    "life = 6 \n",
    "\n",
    "display = []\n",
    "\n",
    "for i in range(len(chosen_word)):\n",
    "    display.append(\"_\")\n",
    "\n",
    "end_game = False\n",
    "while not end_game:\n",
    "    guess = input(\"Guess a letter\")\n",
    "    \n",
    "    if guess in display:\n",
    "        print(f\"You have already chosen {guess}\")\n",
    "        \n",
    "        \n",
    "    for i in range(len(chosen_word)):\n",
    "        character = chosen_word[i]\n",
    "        if character == guess:\n",
    "            display[i] = guess\n",
    "       \n",
    "    \n",
    "    if guess not in chosen_word:\n",
    "        print(f\"{guess} :  not in the word please chose something else\")\n",
    "        \n",
    "        life-=1\n",
    "        if life == 0:\n",
    "            end_game = True\n",
    "            print(\"You lost the game\")\n",
    "            print(f\"The word is {chosen_word}\")\n",
    "        \n",
    "    print(\" \".join(display))\n",
    "    \n",
    "    if \"_\" not in display:\n",
    "        print(\"Conratulation You win!\")\n",
    "        end_game = True\n",
    "        \n",
    "    print(stages[life])\n",
    "    \n",
    "\n",
    "# print(display)\n",
    "# print(chosen_word)"
   ]
  },
  {
   "cell_type": "code",
   "execution_count": 58,
   "id": "cc421f36",
   "metadata": {},
   "outputs": [],
   "source": [
    "def decoraters(func):\n",
    "    def wrapper(args):\n",
    "        print(\"Dear\")\n",
    "        func(args)\n",
    "        print(\"Good Morning, I am glad say that you have qualified google software tranee exam successfully!\")\n",
    "    return wrapper"
   ]
  },
  {
   "cell_type": "code",
   "execution_count": 59,
   "id": "92a2bc60",
   "metadata": {},
   "outputs": [],
   "source": [
    "@decoraters\n",
    "def greeting(name):\n",
    "    print(name)"
   ]
  },
  {
   "cell_type": "code",
   "execution_count": 60,
   "id": "2ebce8d5",
   "metadata": {},
   "outputs": [
    {
     "name": "stdout",
     "output_type": "stream",
     "text": [
      "Dear\n",
      "Harshal\n",
      "Good Morning, I am glad say that you have qualified google software tranee exam successfully!\n"
     ]
    }
   ],
   "source": [
    "greeting(\"Harshal\")"
   ]
  },
  {
   "cell_type": "code",
   "execution_count": 97,
   "id": "2b2299d1",
   "metadata": {},
   "outputs": [],
   "source": [
    "import time\n",
    "def timer(func):\n",
    "    def wrapper(*args):\n",
    "        start_time = time.time()\n",
    "        func(*args)\n",
    "        end_time = time.time()\n",
    "        print(\"Excutuion time is \", (end_time- start_time)*1000000,\"mus\")\n",
    "    return wrapper\n",
    "\n",
    "@decoraters\n",
    "@timer\n",
    "def greeting(name):\n",
    "    time.sleep(3)\n",
    "    print(name)"
   ]
  },
  {
   "cell_type": "code",
   "execution_count": 98,
   "id": "c31182c6",
   "metadata": {},
   "outputs": [
    {
     "name": "stdout",
     "output_type": "stream",
     "text": [
      "Dear\n",
      "Harshal\n",
      "Excutuion time is  3000436.0675811768 mus\n",
      "Good Morning, I am glad say that you have qualified google software tranee exam successfully!\n"
     ]
    }
   ],
   "source": [
    "greeting(\"Harshal\")"
   ]
  },
  {
   "cell_type": "code",
   "execution_count": 101,
   "id": "0a4627ef",
   "metadata": {},
   "outputs": [],
   "source": [
    "replace_value = 5\n",
    "replace_with = 9\n",
    "number = 123456\n",
    "@timer\n",
    "def replace(number, replace_value, replace_with):\n",
    "    time.sleep(0.0001)\n",
    "    temp = number\n",
    "    num = 0\n",
    "    multipleir = 1\n",
    "    while temp>0:\n",
    "        reminder = temp%10\n",
    "        if reminder == 5:\n",
    "            reminder = 9\n",
    "        num = num+multipleir*reminder\n",
    "        multipleir= multipleir*10\n",
    "        temp = temp//10\n",
    "    return num"
   ]
  },
  {
   "cell_type": "code",
   "execution_count": 102,
   "id": "62620f79",
   "metadata": {},
   "outputs": [
    {
     "name": "stdout",
     "output_type": "stream",
     "text": [
      "Excutuion time is  633.7165832519531 mus\n"
     ]
    }
   ],
   "source": [
    "replace_value = 5\n",
    "replace_with = 9\n",
    "number = 123456\n",
    "replace(number, replace_value,replace_with )"
   ]
  }
 ],
 "metadata": {
  "kernelspec": {
   "display_name": "Python 3 (ipykernel)",
   "language": "python",
   "name": "python3"
  },
  "language_info": {
   "codemirror_mode": {
    "name": "ipython",
    "version": 3
   },
   "file_extension": ".py",
   "mimetype": "text/x-python",
   "name": "python",
   "nbconvert_exporter": "python",
   "pygments_lexer": "ipython3",
   "version": "3.11.3"
  }
 },
 "nbformat": 4,
 "nbformat_minor": 5
}
